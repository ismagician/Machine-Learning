{
 "cells": [
  {
   "attachments": {},
   "cell_type": "markdown",
   "metadata": {},
   "source": [
    "## Redes Neuronales Convolucionales"
   ]
  },
  {
   "attachments": {},
   "cell_type": "markdown",
   "metadata": {},
   "source": [
    "#### Construir el modelo de CNN"
   ]
  },
  {
   "cell_type": "code",
   "execution_count": 46,
   "metadata": {},
   "outputs": [],
   "source": [
    "import numpy as np\n",
    "import matplotlib.pyplot as plt\n",
    "import pandas as pd"
   ]
  },
  {
   "cell_type": "code",
   "execution_count": 47,
   "metadata": {},
   "outputs": [],
   "source": [
    "from keras.models import Sequential\n",
    "from keras.layers import Conv2D\n",
    "from keras.layers import MaxPooling2D\n",
    "from keras.layers import Flatten\n",
    "from keras.layers import Dense"
   ]
  },
  {
   "attachments": {},
   "cell_type": "markdown",
   "metadata": {},
   "source": [
    "##### Inicializar la CNN"
   ]
  },
  {
   "cell_type": "code",
   "execution_count": 48,
   "metadata": {},
   "outputs": [],
   "source": [
    "classifier = Sequential()"
   ]
  },
  {
   "attachments": {},
   "cell_type": "markdown",
   "metadata": {},
   "source": [
    "#### Convolución"
   ]
  },
  {
   "cell_type": "code",
   "execution_count": 49,
   "metadata": {},
   "outputs": [],
   "source": [
    "classifier.add(Conv2D(filters = 32,kernel_size = (3, 3), \n",
    "                      input_shape = (64, 64, 3), activation = \"relu\"))"
   ]
  },
  {
   "attachments": {},
   "cell_type": "markdown",
   "metadata": {},
   "source": [
    "#### Max Pooling"
   ]
  },
  {
   "cell_type": "code",
   "execution_count": 50,
   "metadata": {},
   "outputs": [],
   "source": [
    "classifier.add(MaxPooling2D(pool_size = (2,2)))"
   ]
  },
  {
   "attachments": {},
   "cell_type": "markdown",
   "metadata": {},
   "source": [
    "#### Segunda capa de convolución y max pooling"
   ]
  },
  {
   "cell_type": "code",
   "execution_count": 51,
   "metadata": {},
   "outputs": [],
   "source": [
    "classifier.add(Conv2D(filters = 32,kernel_size = (3, 3), activation = \"relu\"))"
   ]
  },
  {
   "cell_type": "code",
   "execution_count": 52,
   "metadata": {},
   "outputs": [],
   "source": [
    "classifier.add(MaxPooling2D(pool_size = (2,2)))"
   ]
  },
  {
   "attachments": {},
   "cell_type": "markdown",
   "metadata": {},
   "source": [
    "#### Flattering"
   ]
  },
  {
   "cell_type": "code",
   "execution_count": 53,
   "metadata": {},
   "outputs": [],
   "source": [
    "classifier.add(Flatten())"
   ]
  },
  {
   "attachments": {},
   "cell_type": "markdown",
   "metadata": {},
   "source": [
    "#### Full Connection"
   ]
  },
  {
   "cell_type": "code",
   "execution_count": 54,
   "metadata": {},
   "outputs": [],
   "source": [
    "classifier.add(Dense(units = 128, activation = \"relu\"))\n",
    "classifier.add(Dense(units = 1, activation = \"sigmoid\"))"
   ]
  },
  {
   "attachments": {},
   "cell_type": "markdown",
   "metadata": {},
   "source": [
    "#### Compilar la CNN"
   ]
  },
  {
   "cell_type": "code",
   "execution_count": 55,
   "metadata": {},
   "outputs": [],
   "source": [
    "classifier.compile(optimizer = \"adam\", loss = \"binary_crossentropy\", metrics = [\"accuracy\"])"
   ]
  },
  {
   "attachments": {},
   "cell_type": "markdown",
   "metadata": {},
   "source": [
    "#### Ajustar la CNN a las imágenes para entrenar "
   ]
  },
  {
   "cell_type": "code",
   "execution_count": 56,
   "metadata": {},
   "outputs": [],
   "source": [
    "from keras.preprocessing.image import ImageDataGenerator"
   ]
  },
  {
   "cell_type": "code",
   "execution_count": 57,
   "metadata": {},
   "outputs": [],
   "source": [
    "train_datagen = ImageDataGenerator(\n",
    "        rescale=1./255,\n",
    "        shear_range=0.2,\n",
    "        zoom_range=0.2,\n",
    "        horizontal_flip=True)\n",
    "\n",
    "test_datagen = ImageDataGenerator(rescale=1./255)"
   ]
  },
  {
   "cell_type": "code",
   "execution_count": 66,
   "metadata": {},
   "outputs": [
    {
     "name": "stdout",
     "output_type": "stream",
     "text": [
      "Found 8000 images belonging to 2 classes.\n"
     ]
    }
   ],
   "source": [
    "training_dataset = train_datagen.flow_from_directory('./dataset/training_set',\n",
    "                                                    target_size=(64, 64),\n",
    "                                                    batch_size=32,\n",
    "                                                    class_mode='binary')"
   ]
  },
  {
   "cell_type": "code",
   "execution_count": 65,
   "metadata": {},
   "outputs": [
    {
     "name": "stdout",
     "output_type": "stream",
     "text": [
      "Found 2000 images belonging to 2 classes.\n"
     ]
    }
   ],
   "source": [
    "testing_dataset = test_datagen.flow_from_directory('./dataset/test_set',\n",
    "                                                target_size=(64, 64),\n",
    "                                                batch_size=32,\n",
    "                                                class_mode='binary')"
   ]
  },
  {
   "cell_type": "code",
   "execution_count": 74,
   "metadata": {},
   "outputs": [],
   "source": [
    "batch_size = 32\n",
    "steps_per_epoch_ = 8000//batch_size\n",
    "validation_steps_ = 2000//batch_size # if you have validation dat"
   ]
  },
  {
   "attachments": {},
   "cell_type": "markdown",
   "metadata": {},
   "source": [
    "#### Elaborar una matriz de confusión"
   ]
  },
  {
   "cell_type": "code",
   "execution_count": 76,
   "metadata": {},
   "outputs": [
    {
     "name": "stdout",
     "output_type": "stream",
     "text": [
      "Epoch 1/25\n",
      "250/250 [==============================] - 58s 231ms/step - loss: 0.3957 - accuracy: 0.8185 - val_loss: 0.4607 - val_accuracy: 0.7898\n",
      "Epoch 2/25\n",
      "250/250 [==============================] - 62s 246ms/step - loss: 0.3836 - accuracy: 0.8257 - val_loss: 0.4728 - val_accuracy: 0.7949\n",
      "Epoch 3/25\n",
      "250/250 [==============================] - 53s 213ms/step - loss: 0.3669 - accuracy: 0.8349 - val_loss: 0.4847 - val_accuracy: 0.7994\n",
      "Epoch 4/25\n",
      "250/250 [==============================] - 54s 215ms/step - loss: 0.3455 - accuracy: 0.8482 - val_loss: 0.5064 - val_accuracy: 0.7838\n",
      "Epoch 5/25\n",
      "250/250 [==============================] - 54s 217ms/step - loss: 0.3382 - accuracy: 0.8497 - val_loss: 0.5193 - val_accuracy: 0.7823\n",
      "Epoch 6/25\n",
      "250/250 [==============================] - 53s 214ms/step - loss: 0.3228 - accuracy: 0.8608 - val_loss: 0.5349 - val_accuracy: 0.7818\n",
      "Epoch 7/25\n",
      "250/250 [==============================] - 53s 213ms/step - loss: 0.3087 - accuracy: 0.8660 - val_loss: 0.5001 - val_accuracy: 0.8014\n",
      "Epoch 8/25\n",
      "250/250 [==============================] - 54s 218ms/step - loss: 0.2986 - accuracy: 0.8735 - val_loss: 0.5308 - val_accuracy: 0.7732\n",
      "Epoch 9/25\n",
      "250/250 [==============================] - 69s 275ms/step - loss: 0.2807 - accuracy: 0.8804 - val_loss: 0.5140 - val_accuracy: 0.7979\n",
      "Epoch 10/25\n",
      "250/250 [==============================] - 67s 268ms/step - loss: 0.2726 - accuracy: 0.8835 - val_loss: 0.5511 - val_accuracy: 0.7939\n",
      "Epoch 11/25\n",
      "250/250 [==============================] - 62s 246ms/step - loss: 0.2593 - accuracy: 0.8930 - val_loss: 0.5348 - val_accuracy: 0.7964\n",
      "Epoch 12/25\n",
      "250/250 [==============================] - 59s 237ms/step - loss: 0.2554 - accuracy: 0.8901 - val_loss: 0.5380 - val_accuracy: 0.8004\n",
      "Epoch 13/25\n",
      "250/250 [==============================] - 95s 379ms/step - loss: 0.2334 - accuracy: 0.9032 - val_loss: 0.5218 - val_accuracy: 0.7994\n",
      "Epoch 14/25\n",
      "250/250 [==============================] - 78s 312ms/step - loss: 0.2260 - accuracy: 0.9099 - val_loss: 0.5275 - val_accuracy: 0.7964\n",
      "Epoch 15/25\n",
      "250/250 [==============================] - 67s 266ms/step - loss: 0.2119 - accuracy: 0.9150 - val_loss: 0.5564 - val_accuracy: 0.8004\n",
      "Epoch 16/25\n",
      "250/250 [==============================] - 78s 310ms/step - loss: 0.2043 - accuracy: 0.9194 - val_loss: 0.6302 - val_accuracy: 0.7878\n",
      "Epoch 17/25\n",
      "250/250 [==============================] - 81s 322ms/step - loss: 0.1841 - accuracy: 0.9265 - val_loss: 0.6379 - val_accuracy: 0.7818\n",
      "Epoch 18/25\n",
      "250/250 [==============================] - 64s 254ms/step - loss: 0.1780 - accuracy: 0.9271 - val_loss: 0.6101 - val_accuracy: 0.7933\n",
      "Epoch 19/25\n",
      "250/250 [==============================] - 53s 213ms/step - loss: 0.1769 - accuracy: 0.9311 - val_loss: 0.5909 - val_accuracy: 0.7918\n",
      "Epoch 20/25\n",
      "250/250 [==============================] - 53s 212ms/step - loss: 0.1732 - accuracy: 0.9309 - val_loss: 0.6095 - val_accuracy: 0.7818\n",
      "Epoch 21/25\n",
      "250/250 [==============================] - 53s 213ms/step - loss: 0.1626 - accuracy: 0.9376 - val_loss: 0.7337 - val_accuracy: 0.7828\n",
      "Epoch 22/25\n",
      "250/250 [==============================] - 59s 237ms/step - loss: 0.1567 - accuracy: 0.9362 - val_loss: 0.6867 - val_accuracy: 0.7893\n",
      "Epoch 23/25\n",
      "250/250 [==============================] - 53s 210ms/step - loss: 0.1513 - accuracy: 0.9434 - val_loss: 0.7101 - val_accuracy: 0.7888\n",
      "Epoch 24/25\n",
      "250/250 [==============================] - 54s 217ms/step - loss: 0.1362 - accuracy: 0.9492 - val_loss: 0.7081 - val_accuracy: 0.7838\n",
      "Epoch 25/25\n",
      "250/250 [==============================] - 68s 271ms/step - loss: 0.1394 - accuracy: 0.9473 - val_loss: 0.6528 - val_accuracy: 0.7984\n"
     ]
    },
    {
     "data": {
      "text/plain": [
       "<keras.callbacks.History at 0x292c5c401c0>"
      ]
     },
     "execution_count": 76,
     "metadata": {},
     "output_type": "execute_result"
    }
   ],
   "source": [
    "classifier.fit(training_dataset,\n",
    "                        steps_per_epoch=steps_per_epoch_,\n",
    "                        epochs=25,\n",
    "                        validation_data=testing_dataset,\n",
    "                        validation_steps=validation_steps_)"
   ]
  }
 ],
 "metadata": {
  "kernelspec": {
   "display_name": "Python 3",
   "language": "python",
   "name": "python3"
  },
  "language_info": {
   "codemirror_mode": {
    "name": "ipython",
    "version": 3
   },
   "file_extension": ".py",
   "mimetype": "text/x-python",
   "name": "python",
   "nbconvert_exporter": "python",
   "pygments_lexer": "ipython3",
   "version": "3.8.10"
  },
  "orig_nbformat": 4,
  "vscode": {
   "interpreter": {
    "hash": "f544ce1a915a9875fad91c894e2c0bcad4b7a79945aa6027ef3ad27810072aa6"
   }
  }
 },
 "nbformat": 4,
 "nbformat_minor": 2
}
